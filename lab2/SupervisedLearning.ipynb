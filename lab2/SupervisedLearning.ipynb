{
    "metadata": {
        "kernelspec": {
            "name": "python3",
            "display_name": "Python 3 (ipykernel)",
            "language": "python"
        }
    },
    "nbformat": 4,
    "nbformat_minor": 2,
    "cells": [
        {
            "attachments": {},
            "cell_type": "markdown",
            "metadata": {},
            "source": [
                "This code is an introduction to supervised learning solving a classification problem using **decision trees**.\n",
                "It follows [this tutorial](https://youtu.be/7eh4d6sabA0). "
            ]
        },
        {
            "attachments": {},
            "cell_type": "markdown",
            "metadata": {},
            "source": [
                "# **Classification Problem**\n",
                "We will follow these steps of solving a machine learning problem.\n",
                "\n",
                "\n",
                "1. Import the Data\n",
                "2. Clean the Data\n",
                "3. split the Data into Training/ Test steps\n",
                "4. Create a Model\n",
                "5. Train the Model\n",
                "6. Make Predictions\n",
                "7. Evaluate and improve\n",
                ""
            ]
        },
        {
            "attachments": {},
            "cell_type": "markdown",
            "metadata": {},
            "source": [
                "# Problem description\n",
                "Enter in the text cell below what you will be predicting in this classification problem (y) and which columns will be used in the prediction (X)"
            ]
        },
        {
            "attachments": {},
            "cell_type": "markdown",
            "metadata": {},
            "source": [
                ""
            ]
        },
        {
            "cell_type": "code",
            "execution_count": 27,
            "metadata": {},
            "outputs": [],
            "source": [
                "import pandas as pd\n",
                "from sklearn.tree import DecisionTreeClassifier\n",
                "from sklearn.model_selection import train_test_split\n",
                "from sklearn.metrics import accuracy_score\n",
                "import joblib\n",
                "from sklearn import tree"
            ]
        },
        {
            "attachments": {},
            "cell_type": "markdown",
            "metadata": {},
            "source": [
                "1. Import the Data."
            ]
        },
        {
            "cell_type": "code",
            "execution_count": 28,
            "metadata": {},
            "outputs": [],
            "source": [
                "df = pd.read_csv('originalfile.csv')"
            ]
        },
        {
            "attachments": {},
            "cell_type": "markdown",
            "metadata": {},
            "source": [
                "2. Display columns and describe the data set"
            ]
        },
        {
            "cell_type": "code",
            "execution_count": 29,
            "metadata": {},
            "outputs": [
                {
                    "name": "stdout",
                    "output_type": "stream",
                    "text": "\u003cclass 'pandas.core.frame.DataFrame'\u003e\nRangeIndex: 3960 entries, 0 to 3959\nData columns (total 9 columns):\n #   Column           Non-Null Count  Dtype \n---  ------           --------------  ----- \n 0   Name             3960 non-null   object\n 1   Price            3960 non-null   object\n 2   Description      3960 non-null   object\n 3   Publisher        3960 non-null   object\n 4   Date of Release  3954 non-null   object\n 5   Category         3960 non-null   object\n 6   Size             3642 non-null   object\n 7   Age Rating       3960 non-null   object\n 8   Languages        3908 non-null   object\ndtypes: object(9)\nmemory usage: 278.6+ KB\n"
                }
            ],
            "source": [
                "df.info()"
            ]
        },
        {
            "cell_type": "code",
            "execution_count": 30,
            "metadata": {},
            "outputs": [
                {
                    "data": {
                        "text/html": "\u003cdiv\u003e\n\u003cstyle scoped\u003e\n    .dataframe tbody tr th:only-of-type {\n        vertical-align: middle;\n    }\n\n    .dataframe tbody tr th {\n        vertical-align: top;\n    }\n\n    .dataframe thead th {\n        text-align: right;\n    }\n\u003c/style\u003e\n\u003ctable border=\"1\" class=\"dataframe\"\u003e\n  \u003cthead\u003e\n    \u003ctr style=\"text-align: right;\"\u003e\n      \u003cth\u003e\u003c/th\u003e\n      \u003cth\u003eName\u003c/th\u003e\n      \u003cth\u003ePrice\u003c/th\u003e\n      \u003cth\u003eDescription\u003c/th\u003e\n      \u003cth\u003ePublisher\u003c/th\u003e\n      \u003cth\u003eDate of Release\u003c/th\u003e\n      \u003cth\u003eCategory\u003c/th\u003e\n      \u003cth\u003eSize\u003c/th\u003e\n      \u003cth\u003eAge Rating\u003c/th\u003e\n      \u003cth\u003eLanguages\u003c/th\u003e\n    \u003c/tr\u003e\n  \u003c/thead\u003e\n  \u003ctbody\u003e\n    \u003ctr\u003e\n      \u003cth\u003ecount\u003c/th\u003e\n      \u003ctd\u003e3960\u003c/td\u003e\n      \u003ctd\u003e3960\u003c/td\u003e\n      \u003ctd\u003e3960\u003c/td\u003e\n      \u003ctd\u003e3960\u003c/td\u003e\n      \u003ctd\u003e3954\u003c/td\u003e\n      \u003ctd\u003e3960\u003c/td\u003e\n      \u003ctd\u003e3642\u003c/td\u003e\n      \u003ctd\u003e3960\u003c/td\u003e\n      \u003ctd\u003e3908\u003c/td\u003e\n    \u003c/tr\u003e\n    \u003ctr\u003e\n      \u003cth\u003eunique\u003c/th\u003e\n      \u003ctd\u003e3960\u003c/td\u003e\n      \u003ctd\u003e254\u003c/td\u003e\n      \u003ctd\u003e3889\u003c/td\u003e\n      \u003ctd\u003e1663\u003c/td\u003e\n      \u003ctd\u003e1724\u003c/td\u003e\n      \u003ctd\u003e87\u003c/td\u003e\n      \u003ctd\u003e3113\u003c/td\u003e\n      \u003ctd\u003e6\u003c/td\u003e\n      \u003ctd\u003e798\u003c/td\u003e\n    \u003c/tr\u003e\n    \u003ctr\u003e\n      \u003cth\u003etop\u003c/th\u003e\n      \u003ctd\u003eWhatsApp Desktop\u003c/td\u003e\n      \u003ctd\u003eFree\u003c/td\u003e\n      \u003ctd\u003eWorld No.1 Typing tutor, Easy Typing Practice ...\u003c/td\u003e\n      \u003ctd\u003eMicrosoft Corporation\u003c/td\u003e\n      \u003ctd\u003e09-06-2019\u003c/td\u003e\n      \u003ctd\u003eAction \u0026amp; adventure\u003c/td\u003e\n      \u003ctd\u003e10.12 MB\u003c/td\u003e\n      \u003ctd\u003eFor ages 3 and up\u003c/td\u003e\n      \u003ctd\u003eEnglish(UnitedStates)\u003c/td\u003e\n    \u003c/tr\u003e\n    \u003ctr\u003e\n      \u003cth\u003efreq\u003c/th\u003e\n      \u003ctd\u003e1\u003c/td\u003e\n      \u003ctd\u003e1974\u003c/td\u003e\n      \u003ctd\u003e8\u003c/td\u003e\n      \u003ctd\u003e256\u003c/td\u003e\n      \u003ctd\u003e21\u003c/td\u003e\n      \u003ctd\u003e864\u003c/td\u003e\n      \u003ctd\u003e12\u003c/td\u003e\n      \u003ctd\u003e2916\u003c/td\u003e\n      \u003ctd\u003e2575\u003c/td\u003e\n    \u003c/tr\u003e\n  \u003c/tbody\u003e\n\u003c/table\u003e\n\u003c/div\u003e",
                        "text/plain": "                    Name Price  \\\ncount               3960  3960   \nunique              3960   254   \ntop     WhatsApp Desktop  Free   \nfreq                   1  1974   \n\n                                              Description  \\\ncount                                                3960   \nunique                                               3889   \ntop     World No.1 Typing tutor, Easy Typing Practice ...   \nfreq                                                    8   \n\n                    Publisher Date of Release            Category      Size  \\\ncount                    3960            3954                3960      3642   \nunique                   1663            1724                  87      3113   \ntop     Microsoft Corporation      09-06-2019  Action \u0026 adventure  10.12 MB   \nfreq                      256              21                 864        12   \n\n               Age Rating              Languages  \ncount                3960                   3908  \nunique                  6                    798  \ntop     For ages 3 and up  English(UnitedStates)  \nfreq                 2916                   2575  "
                    },
                    "execution_count": 30,
                    "metadata": {},
                    "output_type": "execute_result"
                }
            ],
            "source": [
                "df.describe()"
            ]
        },
        {
            "attachments": {},
            "cell_type": "markdown",
            "metadata": {},
            "source": [
                "3. Prepare Data"
            ]
        },
        {
            "cell_type": "code",
            "execution_count": 32,
            "metadata": {},
            "outputs": [
                {
                    "data": {
                        "text/html": "\u003cdiv\u003e\n\u003cstyle scoped\u003e\n    .dataframe tbody tr th:only-of-type {\n        vertical-align: middle;\n    }\n\n    .dataframe tbody tr th {\n        vertical-align: top;\n    }\n\n    .dataframe thead th {\n        text-align: right;\n    }\n\u003c/style\u003e\n\u003ctable border=\"1\" class=\"dataframe\"\u003e\n  \u003cthead\u003e\n    \u003ctr style=\"text-align: right;\"\u003e\n      \u003cth\u003e\u003c/th\u003e\n      \u003cth\u003eName\u003c/th\u003e\n      \u003cth\u003eDescription\u003c/th\u003e\n      \u003cth\u003ePublisher\u003c/th\u003e\n      \u003cth\u003eDate of Release\u003c/th\u003e\n      \u003cth\u003eCategory\u003c/th\u003e\n      \u003cth\u003eSize\u003c/th\u003e\n      \u003cth\u003eAge Rating\u003c/th\u003e\n      \u003cth\u003eLanguages\u003c/th\u003e\n    \u003c/tr\u003e\n  \u003c/thead\u003e\n  \u003ctbody\u003e\n    \u003ctr\u003e\n      \u003cth\u003e0\u003c/th\u003e\n      \u003ctd\u003eWhatsApp Desktop\u003c/td\u003e\n      \u003ctd\u003eWith WhatsApp on the desktop, you can seamless...\u003c/td\u003e\n      \u003ctd\u003eWhatsApp Inc.\u003c/td\u003e\n      \u003ctd\u003e01-02-2017\u003c/td\u003e\n      \u003ctd\u003eSocial\u003c/td\u003e\n      \u003ctd\u003e379.39 MB\u003c/td\u003e\n      \u003ctd\u003eFor ages 3 and up\u003c/td\u003e\n      \u003ctd\u003eEnglish(UnitedStates)\u003c/td\u003e\n    \u003c/tr\u003e\n    \u003ctr\u003e\n      \u003cth\u003e1\u003c/th\u003e\n      \u003ctd\u003eTelegram Desktop\u003c/td\u003e\n      \u003ctd\u003ePure instant messaging — simple, fast, secure,...\u003c/td\u003e\n      \u003ctd\u003eTelegram Messenger LLP\u003c/td\u003e\n      \u003ctd\u003e03-04-2017\u003c/td\u003e\n      \u003ctd\u003eSocial\u003c/td\u003e\n      \u003ctd\u003e103 MB\u003c/td\u003e\n      \u003ctd\u003eFor ages 18 and up\u003c/td\u003e\n      \u003ctd\u003eEnglish(UnitedStates)\u003c/td\u003e\n    \u003c/tr\u003e\n    \u003ctr\u003e\n      \u003cth\u003e2\u003c/th\u003e\n      \u003ctd\u003eAmazon Prime Video for Windows\u003c/td\u003e\n      \u003ctd\u003eWatch movies and TV shows recommended for you,...\u003c/td\u003e\n      \u003ctd\u003eAmazon Development Centre (London) Ltd\u003c/td\u003e\n      \u003ctd\u003e24-02-2020\u003c/td\u003e\n      \u003ctd\u003eEntertainment\u003c/td\u003e\n      \u003ctd\u003e39.86 MB\u003c/td\u003e\n      \u003ctd\u003eFor ages 12 and up\u003c/td\u003e\n      \u003ctd\u003eEnglish(UnitedStates)   English(UnitedKingdom)...\u003c/td\u003e\n    \u003c/tr\u003e\n    \u003ctr\u003e\n      \u003cth\u003e3\u003c/th\u003e\n      \u003ctd\u003eInstagram\u003c/td\u003e\n      \u003ctd\u003eBringing you closer to the people and things y...\u003c/td\u003e\n      \u003ctd\u003eInstagram\u003c/td\u003e\n      \u003ctd\u003e26-02-2016\u003c/td\u003e\n      \u003ctd\u003eSocial\u003c/td\u003e\n      \u003ctd\u003e4.59 MB\u003c/td\u003e\n      \u003ctd\u003eFor ages 12 and up\u003c/td\u003e\n      \u003ctd\u003eEnglish(UnitedStates)\u003c/td\u003e\n    \u003c/tr\u003e\n    \u003ctr\u003e\n      \u003cth\u003e4\u003c/th\u003e\n      \u003ctd\u003eSpotify Music\u003c/td\u003e\n      \u003ctd\u003eLove music? Play your favorite songs and album...\u003c/td\u003e\n      \u003ctd\u003eSpotify AB\u003c/td\u003e\n      \u003ctd\u003e26-05-2017\u003c/td\u003e\n      \u003ctd\u003eMusic\u003c/td\u003e\n      \u003ctd\u003e182.41 MB\u003c/td\u003e\n      \u003ctd\u003eFor ages 12 and up\u003c/td\u003e\n      \u003ctd\u003eEnglish(UnitedStates)   العربية(المملكةالعربية...\u003c/td\u003e\n    \u003c/tr\u003e\n    \u003ctr\u003e\n      \u003cth\u003e...\u003c/th\u003e\n      \u003ctd\u003e...\u003c/td\u003e\n      \u003ctd\u003e...\u003c/td\u003e\n      \u003ctd\u003e...\u003c/td\u003e\n      \u003ctd\u003e...\u003c/td\u003e\n      \u003ctd\u003e...\u003c/td\u003e\n      \u003ctd\u003e...\u003c/td\u003e\n      \u003ctd\u003e...\u003c/td\u003e\n      \u003ctd\u003e...\u003c/td\u003e\n    \u003c/tr\u003e\n    \u003ctr\u003e\n      \u003cth\u003e3955\u003c/th\u003e\n      \u003ctd\u003eVegas Slots Machine *\u003c/td\u003e\n      \u003ctd\u003eWindows version Vegas style slot machine casin...\u003c/td\u003e\n      \u003ctd\u003eCool Inc.\u003c/td\u003e\n      \u003ctd\u003e30-01-2018\u003c/td\u003e\n      \u003ctd\u003eCasino\u003c/td\u003e\n      \u003ctd\u003e10.11 MB\u003c/td\u003e\n      \u003ctd\u003eFor ages 3 and up\u003c/td\u003e\n      \u003ctd\u003eEnglish(UnitedStates)   中文(中国)\u003c/td\u003e\n    \u003c/tr\u003e\n    \u003ctr\u003e\n      \u003cth\u003e3956\u003c/th\u003e\n      \u003ctd\u003eCrossword Puzzle +\u003c/td\u003e\n      \u003ctd\u003eCrossword Puzzle is a casual crossword and cro...\u003c/td\u003e\n      \u003ctd\u003eApp Best\u003c/td\u003e\n      \u003ctd\u003e30-01-2018\u003c/td\u003e\n      \u003ctd\u003ePuzzle \u0026amp; trivia\u003c/td\u003e\n      \u003ctd\u003e7.24 MB\u003c/td\u003e\n      \u003ctd\u003eFor ages 3 and up\u003c/td\u003e\n      \u003ctd\u003eEnglish(UnitedStates)   English(UnitedKingdom)...\u003c/td\u003e\n    \u003c/tr\u003e\n    \u003ctr\u003e\n      \u003cth\u003e3957\u003c/th\u003e\n      \u003ctd\u003eRescue Team\u003c/td\u003e\n      \u003ctd\u003eMother Nature has done a number on an island p...\u003c/td\u003e\n      \u003ctd\u003eAlawar Entertainment Inc.\u003c/td\u003e\n      \u003ctd\u003e29-05-2013\u003c/td\u003e\n      \u003ctd\u003eStrategy\u003c/td\u003e\n      \u003ctd\u003e38.95 MB\u003c/td\u003e\n      \u003ctd\u003eFor ages 3 and up\u003c/td\u003e\n      \u003ctd\u003eDeutsch(Deutschland)   English(UnitedStates)  ...\u003c/td\u003e\n    \u003c/tr\u003e\n    \u003ctr\u003e\n      \u003cth\u003e3958\u003c/th\u003e\n      \u003ctd\u003eDoodle Kingdom\u003c/td\u003e\n      \u003ctd\u003eIt's time to get MEDIEVAL!\\r\\n\\r\\nFrom the cre...\u003c/td\u003e\n      \u003ctd\u003eJoyBits Ltd\u003c/td\u003e\n      \u003ctd\u003e25-11-2013\u003c/td\u003e\n      \u003ctd\u003ePuzzle \u0026amp; trivia\u003c/td\u003e\n      \u003ctd\u003e77.08 MB\u003c/td\u003e\n      \u003ctd\u003eFor ages 7 and up\u003c/td\u003e\n      \u003ctd\u003eEnglish(UnitedStates)   Deutsch(Deutschland)  ...\u003c/td\u003e\n    \u003c/tr\u003e\n    \u003ctr\u003e\n      \u003cth\u003e3959\u003c/th\u003e\n      \u003ctd\u003eDoodle Devil\u003c/td\u003e\n      \u003ctd\u003eGreat Halloween Sale! 50% off all in-app purch...\u003c/td\u003e\n      \u003ctd\u003eJoyBits Ltd\u003c/td\u003e\n      \u003ctd\u003e24-09-2012\u003c/td\u003e\n      \u003ctd\u003ePuzzle \u0026amp; trivia\u003c/td\u003e\n      \u003ctd\u003e144.8 MB\u003c/td\u003e\n      \u003ctd\u003eFor ages 12 and up\u003c/td\u003e\n      \u003ctd\u003eEnglish(UnitedStates)   Deutsch(Deutschland)  ...\u003c/td\u003e\n    \u003c/tr\u003e\n  \u003c/tbody\u003e\n\u003c/table\u003e\n\u003cp\u003e3960 rows × 8 columns\u003c/p\u003e\n\u003c/div\u003e",
                        "text/plain": "                                Name  \\\n0                   WhatsApp Desktop   \n1                   Telegram Desktop   \n2     Amazon Prime Video for Windows   \n3                          Instagram   \n4                      Spotify Music   \n...                              ...   \n3955           Vegas Slots Machine *   \n3956              Crossword Puzzle +   \n3957                     Rescue Team   \n3958                  Doodle Kingdom   \n3959                    Doodle Devil   \n\n                                            Description  \\\n0     With WhatsApp on the desktop, you can seamless...   \n1     Pure instant messaging — simple, fast, secure,...   \n2     Watch movies and TV shows recommended for you,...   \n3     Bringing you closer to the people and things y...   \n4     Love music? Play your favorite songs and album...   \n...                                                 ...   \n3955  Windows version Vegas style slot machine casin...   \n3956  Crossword Puzzle is a casual crossword and cro...   \n3957  Mother Nature has done a number on an island p...   \n3958  It's time to get MEDIEVAL!\\r\\n\\r\\nFrom the cre...   \n3959  Great Halloween Sale! 50% off all in-app purch...   \n\n                                   Publisher Date of Release         Category  \\\n0                              WhatsApp Inc.      01-02-2017           Social   \n1                     Telegram Messenger LLP      03-04-2017           Social   \n2     Amazon Development Centre (London) Ltd      24-02-2020    Entertainment   \n3                                  Instagram      26-02-2016           Social   \n4                                 Spotify AB      26-05-2017            Music   \n...                                      ...             ...              ...   \n3955                               Cool Inc.      30-01-2018           Casino   \n3956                                App Best      30-01-2018  Puzzle \u0026 trivia   \n3957               Alawar Entertainment Inc.      29-05-2013         Strategy   \n3958                             JoyBits Ltd      25-11-2013  Puzzle \u0026 trivia   \n3959                             JoyBits Ltd      24-09-2012  Puzzle \u0026 trivia   \n\n           Size          Age Rating  \\\n0     379.39 MB   For ages 3 and up   \n1        103 MB  For ages 18 and up   \n2      39.86 MB  For ages 12 and up   \n3       4.59 MB  For ages 12 and up   \n4     182.41 MB  For ages 12 and up   \n...         ...                 ...   \n3955   10.11 MB   For ages 3 and up   \n3956    7.24 MB   For ages 3 and up   \n3957   38.95 MB   For ages 3 and up   \n3958   77.08 MB   For ages 7 and up   \n3959   144.8 MB  For ages 12 and up   \n\n                                              Languages  \n0                                 English(UnitedStates)  \n1                                 English(UnitedStates)  \n2     English(UnitedStates)   English(UnitedKingdom)...  \n3                                 English(UnitedStates)  \n4     English(UnitedStates)   العربية(المملكةالعربية...  \n...                                                 ...  \n3955                     English(UnitedStates)   中文(中国)  \n3956  English(UnitedStates)   English(UnitedKingdom)...  \n3957  Deutsch(Deutschland)   English(UnitedStates)  ...  \n3958  English(UnitedStates)   Deutsch(Deutschland)  ...  \n3959  English(UnitedStates)   Deutsch(Deutschland)  ...  \n\n[3960 rows x 8 columns]"
                    },
                    "execution_count": 32,
                    "metadata": {},
                    "output_type": "execute_result"
                }
            ],
            "source": [
                "# Run this section to inspect X\n",
                "X = df.drop(columns = ['Price'])\n",
                "X"
            ]
        },
        {
            "cell_type": "code",
            "execution_count": 33,
            "metadata": {},
            "outputs": [
                {
                    "data": {
                        "text/plain": "0       01-02-2017\n1       03-04-2017\n2       24-02-2020\n3       26-02-2016\n4       26-05-2017\n           ...    \n3955    30-01-2018\n3956    30-01-2018\n3957    29-05-2013\n3958    25-11-2013\n3959    24-09-2012\nName: Date of Release, Length: 3960, dtype: object"
                    },
                    "execution_count": 33,
                    "metadata": {},
                    "output_type": "execute_result"
                }
            ],
            "source": [
                "# Uncomment this section to inpect y\n",
                "y = df['Date of Release']\n",
                "y"
            ]
        },
        {
            "attachments": {},
            "cell_type": "markdown",
            "metadata": {},
            "source": [
                "4. Calculate accuracy"
            ]
        },
        {
            "cell_type": "code",
            "execution_count": 34,
            "metadata": {},
            "outputs": [
                {
                    "ename": "ValueError",
                    "evalue": "could not convert string to float: 'F18 Carrier Landing Lite'",
                    "output_type": "error",
                    "traceback": [
                        "\u001b[0;31m---------------------------------------------------------------------------\u001b[0m",
                        "\u001b[0;31mValueError\u001b[0m                                Traceback (most recent call last)",
                        "\u001b[0;32m/tmp/ipykernel_90/1876563117.py\u001b[0m in \u001b[0;36m\u003cmodule\u003e\u001b[0;34m\u001b[0m\n\u001b[1;32m      4\u001b[0m \u001b[0;34m\u001b[0m\u001b[0m\n\u001b[1;32m      5\u001b[0m \u001b[0mmodel\u001b[0m \u001b[0;34m=\u001b[0m \u001b[0mDecisionTreeClassifier\u001b[0m\u001b[0;34m(\u001b[0m\u001b[0;34m)\u001b[0m\u001b[0;34m\u001b[0m\u001b[0;34m\u001b[0m\u001b[0m\n\u001b[0;32m----\u003e 6\u001b[0;31m \u001b[0mmodel\u001b[0m\u001b[0;34m.\u001b[0m\u001b[0mfit\u001b[0m\u001b[0;34m(\u001b[0m\u001b[0mX_train\u001b[0m\u001b[0;34m,\u001b[0m \u001b[0my_train\u001b[0m\u001b[0;34m)\u001b[0m\u001b[0;34m\u001b[0m\u001b[0;34m\u001b[0m\u001b[0m\n\u001b[0m\u001b[1;32m      7\u001b[0m \u001b[0mpredictions\u001b[0m \u001b[0;34m=\u001b[0m \u001b[0mmodel\u001b[0m\u001b[0;34m.\u001b[0m\u001b[0mpredict\u001b[0m\u001b[0;34m(\u001b[0m\u001b[0mX_test\u001b[0m\u001b[0;34m)\u001b[0m\u001b[0;34m\u001b[0m\u001b[0;34m\u001b[0m\u001b[0m\n\u001b[1;32m      8\u001b[0m \u001b[0;34m\u001b[0m\u001b[0m\n",
                        "\u001b[0;32m/usr/lib/python3.9/site-packages/sklearn/tree/_classes.py\u001b[0m in \u001b[0;36mfit\u001b[0;34m(self, X, y, sample_weight, check_input, X_idx_sorted)\u001b[0m\n\u001b[1;32m    901\u001b[0m         \"\"\"\n\u001b[1;32m    902\u001b[0m \u001b[0;34m\u001b[0m\u001b[0m\n\u001b[0;32m--\u003e 903\u001b[0;31m         super().fit(\n\u001b[0m\u001b[1;32m    904\u001b[0m             \u001b[0mX\u001b[0m\u001b[0;34m,\u001b[0m \u001b[0my\u001b[0m\u001b[0;34m,\u001b[0m\u001b[0;34m\u001b[0m\u001b[0;34m\u001b[0m\u001b[0m\n\u001b[1;32m    905\u001b[0m             \u001b[0msample_weight\u001b[0m\u001b[0;34m=\u001b[0m\u001b[0msample_weight\u001b[0m\u001b[0;34m,\u001b[0m\u001b[0;34m\u001b[0m\u001b[0;34m\u001b[0m\u001b[0m\n",
                        "\u001b[0;32m/usr/lib/python3.9/site-packages/sklearn/tree/_classes.py\u001b[0m in \u001b[0;36mfit\u001b[0;34m(self, X, y, sample_weight, check_input, X_idx_sorted)\u001b[0m\n\u001b[1;32m    155\u001b[0m             \u001b[0mcheck_X_params\u001b[0m \u001b[0;34m=\u001b[0m \u001b[0mdict\u001b[0m\u001b[0;34m(\u001b[0m\u001b[0mdtype\u001b[0m\u001b[0;34m=\u001b[0m\u001b[0mDTYPE\u001b[0m\u001b[0;34m,\u001b[0m \u001b[0maccept_sparse\u001b[0m\u001b[0;34m=\u001b[0m\u001b[0;34m\"csc\"\u001b[0m\u001b[0;34m)\u001b[0m\u001b[0;34m\u001b[0m\u001b[0;34m\u001b[0m\u001b[0m\n\u001b[1;32m    156\u001b[0m             \u001b[0mcheck_y_params\u001b[0m \u001b[0;34m=\u001b[0m \u001b[0mdict\u001b[0m\u001b[0;34m(\u001b[0m\u001b[0mensure_2d\u001b[0m\u001b[0;34m=\u001b[0m\u001b[0;32mFalse\u001b[0m\u001b[0;34m,\u001b[0m \u001b[0mdtype\u001b[0m\u001b[0;34m=\u001b[0m\u001b[0;32mNone\u001b[0m\u001b[0;34m)\u001b[0m\u001b[0;34m\u001b[0m\u001b[0;34m\u001b[0m\u001b[0m\n\u001b[0;32m--\u003e 157\u001b[0;31m             X, y = self._validate_data(X, y,\n\u001b[0m\u001b[1;32m    158\u001b[0m                                        validate_separately=(check_X_params,\n\u001b[1;32m    159\u001b[0m                                                             check_y_params))\n",
                        "\u001b[0;32m/usr/lib/python3.9/site-packages/sklearn/base.py\u001b[0m in \u001b[0;36m_validate_data\u001b[0;34m(self, X, y, reset, validate_separately, **check_params)\u001b[0m\n\u001b[1;32m    428\u001b[0m                 \u001b[0;31m# :(\u001b[0m\u001b[0;34m\u001b[0m\u001b[0;34m\u001b[0m\u001b[0m\n\u001b[1;32m    429\u001b[0m                 \u001b[0mcheck_X_params\u001b[0m\u001b[0;34m,\u001b[0m \u001b[0mcheck_y_params\u001b[0m \u001b[0;34m=\u001b[0m \u001b[0mvalidate_separately\u001b[0m\u001b[0;34m\u001b[0m\u001b[0;34m\u001b[0m\u001b[0m\n\u001b[0;32m--\u003e 430\u001b[0;31m                 \u001b[0mX\u001b[0m \u001b[0;34m=\u001b[0m \u001b[0mcheck_array\u001b[0m\u001b[0;34m(\u001b[0m\u001b[0mX\u001b[0m\u001b[0;34m,\u001b[0m \u001b[0;34m**\u001b[0m\u001b[0mcheck_X_params\u001b[0m\u001b[0;34m)\u001b[0m\u001b[0;34m\u001b[0m\u001b[0;34m\u001b[0m\u001b[0m\n\u001b[0m\u001b[1;32m    431\u001b[0m                 \u001b[0my\u001b[0m \u001b[0;34m=\u001b[0m \u001b[0mcheck_array\u001b[0m\u001b[0;34m(\u001b[0m\u001b[0my\u001b[0m\u001b[0;34m,\u001b[0m \u001b[0;34m**\u001b[0m\u001b[0mcheck_y_params\u001b[0m\u001b[0;34m)\u001b[0m\u001b[0;34m\u001b[0m\u001b[0;34m\u001b[0m\u001b[0m\n\u001b[1;32m    432\u001b[0m             \u001b[0;32melse\u001b[0m\u001b[0;34m:\u001b[0m\u001b[0;34m\u001b[0m\u001b[0;34m\u001b[0m\u001b[0m\n",
                        "\u001b[0;32m/usr/lib/python3.9/site-packages/sklearn/utils/validation.py\u001b[0m in \u001b[0;36minner_f\u001b[0;34m(*args, **kwargs)\u001b[0m\n\u001b[1;32m     61\u001b[0m             \u001b[0mextra_args\u001b[0m \u001b[0;34m=\u001b[0m \u001b[0mlen\u001b[0m\u001b[0;34m(\u001b[0m\u001b[0margs\u001b[0m\u001b[0;34m)\u001b[0m \u001b[0;34m-\u001b[0m \u001b[0mlen\u001b[0m\u001b[0;34m(\u001b[0m\u001b[0mall_args\u001b[0m\u001b[0;34m)\u001b[0m\u001b[0;34m\u001b[0m\u001b[0;34m\u001b[0m\u001b[0m\n\u001b[1;32m     62\u001b[0m             \u001b[0;32mif\u001b[0m \u001b[0mextra_args\u001b[0m \u001b[0;34m\u003c=\u001b[0m \u001b[0;36m0\u001b[0m\u001b[0;34m:\u001b[0m\u001b[0;34m\u001b[0m\u001b[0;34m\u001b[0m\u001b[0m\n\u001b[0;32m---\u003e 63\u001b[0;31m                 \u001b[0;32mreturn\u001b[0m \u001b[0mf\u001b[0m\u001b[0;34m(\u001b[0m\u001b[0;34m*\u001b[0m\u001b[0margs\u001b[0m\u001b[0;34m,\u001b[0m \u001b[0;34m**\u001b[0m\u001b[0mkwargs\u001b[0m\u001b[0;34m)\u001b[0m\u001b[0;34m\u001b[0m\u001b[0;34m\u001b[0m\u001b[0m\n\u001b[0m\u001b[1;32m     64\u001b[0m \u001b[0;34m\u001b[0m\u001b[0m\n\u001b[1;32m     65\u001b[0m             \u001b[0;31m# extra_args \u003e 0\u001b[0m\u001b[0;34m\u001b[0m\u001b[0;34m\u001b[0m\u001b[0m\n",
                        "\u001b[0;32m/usr/lib/python3.9/site-packages/sklearn/utils/validation.py\u001b[0m in \u001b[0;36mcheck_array\u001b[0;34m(array, accept_sparse, accept_large_sparse, dtype, order, copy, force_all_finite, ensure_2d, allow_nd, ensure_min_samples, ensure_min_features, estimator)\u001b[0m\n\u001b[1;32m    671\u001b[0m                     \u001b[0marray\u001b[0m \u001b[0;34m=\u001b[0m \u001b[0marray\u001b[0m\u001b[0;34m.\u001b[0m\u001b[0mastype\u001b[0m\u001b[0;34m(\u001b[0m\u001b[0mdtype\u001b[0m\u001b[0;34m,\u001b[0m \u001b[0mcasting\u001b[0m\u001b[0;34m=\u001b[0m\u001b[0;34m\"unsafe\"\u001b[0m\u001b[0;34m,\u001b[0m \u001b[0mcopy\u001b[0m\u001b[0;34m=\u001b[0m\u001b[0;32mFalse\u001b[0m\u001b[0;34m)\u001b[0m\u001b[0;34m\u001b[0m\u001b[0;34m\u001b[0m\u001b[0m\n\u001b[1;32m    672\u001b[0m                 \u001b[0;32melse\u001b[0m\u001b[0;34m:\u001b[0m\u001b[0;34m\u001b[0m\u001b[0;34m\u001b[0m\u001b[0m\n\u001b[0;32m--\u003e 673\u001b[0;31m                     \u001b[0marray\u001b[0m \u001b[0;34m=\u001b[0m \u001b[0mnp\u001b[0m\u001b[0;34m.\u001b[0m\u001b[0masarray\u001b[0m\u001b[0;34m(\u001b[0m\u001b[0marray\u001b[0m\u001b[0;34m,\u001b[0m \u001b[0morder\u001b[0m\u001b[0;34m=\u001b[0m\u001b[0morder\u001b[0m\u001b[0;34m,\u001b[0m \u001b[0mdtype\u001b[0m\u001b[0;34m=\u001b[0m\u001b[0mdtype\u001b[0m\u001b[0;34m)\u001b[0m\u001b[0;34m\u001b[0m\u001b[0;34m\u001b[0m\u001b[0m\n\u001b[0m\u001b[1;32m    674\u001b[0m             \u001b[0;32mexcept\u001b[0m \u001b[0mComplexWarning\u001b[0m \u001b[0;32mas\u001b[0m \u001b[0mcomplex_warning\u001b[0m\u001b[0;34m:\u001b[0m\u001b[0;34m\u001b[0m\u001b[0;34m\u001b[0m\u001b[0m\n\u001b[1;32m    675\u001b[0m                 raise ValueError(\"Complex data not supported\\n\"\n",
                        "\u001b[0;32m/usr/lib/python3.9/site-packages/pandas/core/generic.py\u001b[0m in \u001b[0;36m__array__\u001b[0;34m(self, dtype)\u001b[0m\n\u001b[1;32m   1991\u001b[0m \u001b[0;34m\u001b[0m\u001b[0m\n\u001b[1;32m   1992\u001b[0m     \u001b[0;32mdef\u001b[0m \u001b[0m__array__\u001b[0m\u001b[0;34m(\u001b[0m\u001b[0mself\u001b[0m\u001b[0;34m,\u001b[0m \u001b[0mdtype\u001b[0m\u001b[0;34m:\u001b[0m \u001b[0mNpDtype\u001b[0m \u001b[0;34m|\u001b[0m \u001b[0;32mNone\u001b[0m \u001b[0;34m=\u001b[0m \u001b[0;32mNone\u001b[0m\u001b[0;34m)\u001b[0m \u001b[0;34m-\u003e\u001b[0m \u001b[0mnp\u001b[0m\u001b[0;34m.\u001b[0m\u001b[0mndarray\u001b[0m\u001b[0;34m:\u001b[0m\u001b[0;34m\u001b[0m\u001b[0;34m\u001b[0m\u001b[0m\n\u001b[0;32m-\u003e 1993\u001b[0;31m         \u001b[0;32mreturn\u001b[0m \u001b[0mnp\u001b[0m\u001b[0;34m.\u001b[0m\u001b[0masarray\u001b[0m\u001b[0;34m(\u001b[0m\u001b[0mself\u001b[0m\u001b[0;34m.\u001b[0m\u001b[0m_values\u001b[0m\u001b[0;34m,\u001b[0m \u001b[0mdtype\u001b[0m\u001b[0;34m=\u001b[0m\u001b[0mdtype\u001b[0m\u001b[0;34m)\u001b[0m\u001b[0;34m\u001b[0m\u001b[0;34m\u001b[0m\u001b[0m\n\u001b[0m\u001b[1;32m   1994\u001b[0m \u001b[0;34m\u001b[0m\u001b[0m\n\u001b[1;32m   1995\u001b[0m     def __array_wrap__(\n",
                        "\u001b[0;31mValueError\u001b[0m: could not convert string to float: 'F18 Carrier Landing Lite'"
                    ]
                }
            ],
            "source": [
                "# Train 80% of the data set and use the rest to test\n",
                "X_train, X_test, y_train, y_test = train_test_split(\n",
                "                                    X, y, test_size=0.2)\n",
                "\n",
                "model = DecisionTreeClassifier()\n",
                "model.fit(X_train, y_train)\n",
                "predictions = model.predict(X_test)\n",
                "\n",
                "# Compute model accuracy\n",
                "score = accuracy_score(y_test, predictions)\n",
                "score"
            ]
        },
        {
            "attachments": {},
            "cell_type": "markdown",
            "metadata": {},
            "source": [
                "5. Persisting Models"
            ]
        },
        {
            "cell_type": "code",
            "execution_count": 35,
            "metadata": {},
            "outputs": [
                {
                    "data": {
                        "text/plain": "['MODELNAME.joblib']"
                    },
                    "execution_count": 35,
                    "metadata": {},
                    "output_type": "execute_result"
                }
            ],
            "source": [
                "# Save the model to file\n",
                "joblib.dump(model, 'MODELNAME.joblib')\n",
                ""
            ]
        },
        {
            "attachments": {},
            "cell_type": "markdown",
            "metadata": {},
            "source": [
                "5.b. Import the model and make predictions"
            ]
        },
        {
            "cell_type": "code",
            "execution_count": 38,
            "metadata": {},
            "outputs": [
                {
                    "ename": "NotFittedError",
                    "evalue": "This DecisionTreeClassifier instance is not fitted yet. Call 'fit' with appropriate arguments before using this estimator.",
                    "output_type": "error",
                    "traceback": [
                        "\u001b[0;31m---------------------------------------------------------------------------\u001b[0m",
                        "\u001b[0;31mNotFittedError\u001b[0m                            Traceback (most recent call last)",
                        "\u001b[0;32m/tmp/ipykernel_90/3737405064.py\u001b[0m in \u001b[0;36m\u003cmodule\u003e\u001b[0;34m\u001b[0m\n\u001b[1;32m      3\u001b[0m \u001b[0;34m\u001b[0m\u001b[0m\n\u001b[1;32m      4\u001b[0m \u001b[0mmodel\u001b[0m \u001b[0;34m=\u001b[0m \u001b[0mjoblib\u001b[0m\u001b[0;34m.\u001b[0m\u001b[0mload\u001b[0m\u001b[0;34m(\u001b[0m\u001b[0;34m'MODELNAME.joblib'\u001b[0m\u001b[0;34m)\u001b[0m\u001b[0;34m\u001b[0m\u001b[0;34m\u001b[0m\u001b[0m\n\u001b[0;32m----\u003e 5\u001b[0;31m \u001b[0mpredictions\u001b[0m \u001b[0;34m=\u001b[0m \u001b[0mmodel\u001b[0m\u001b[0;34m.\u001b[0m\u001b[0mpredict\u001b[0m\u001b[0;34m(\u001b[0m\u001b[0mX_test\u001b[0m\u001b[0;34m)\u001b[0m\u001b[0;34m\u001b[0m\u001b[0;34m\u001b[0m\u001b[0m\n\u001b[0m\u001b[1;32m      6\u001b[0m \u001b[0mpredictions\u001b[0m\u001b[0;34m\u001b[0m\u001b[0;34m\u001b[0m\u001b[0m\n",
                        "\u001b[0;32m/usr/lib/python3.9/site-packages/sklearn/tree/_classes.py\u001b[0m in \u001b[0;36mpredict\u001b[0;34m(self, X, check_input)\u001b[0m\n\u001b[1;32m    439\u001b[0m             \u001b[0mThe\u001b[0m \u001b[0mpredicted\u001b[0m \u001b[0mclasses\u001b[0m\u001b[0;34m,\u001b[0m \u001b[0;32mor\u001b[0m \u001b[0mthe\u001b[0m \u001b[0mpredict\u001b[0m \u001b[0mvalues\u001b[0m\u001b[0;34m.\u001b[0m\u001b[0;34m\u001b[0m\u001b[0;34m\u001b[0m\u001b[0m\n\u001b[1;32m    440\u001b[0m         \"\"\"\n\u001b[0;32m--\u003e 441\u001b[0;31m         \u001b[0mcheck_is_fitted\u001b[0m\u001b[0;34m(\u001b[0m\u001b[0mself\u001b[0m\u001b[0;34m)\u001b[0m\u001b[0;34m\u001b[0m\u001b[0;34m\u001b[0m\u001b[0m\n\u001b[0m\u001b[1;32m    442\u001b[0m         \u001b[0mX\u001b[0m \u001b[0;34m=\u001b[0m \u001b[0mself\u001b[0m\u001b[0;34m.\u001b[0m\u001b[0m_validate_X_predict\u001b[0m\u001b[0;34m(\u001b[0m\u001b[0mX\u001b[0m\u001b[0;34m,\u001b[0m \u001b[0mcheck_input\u001b[0m\u001b[0;34m)\u001b[0m\u001b[0;34m\u001b[0m\u001b[0;34m\u001b[0m\u001b[0m\n\u001b[1;32m    443\u001b[0m         \u001b[0mproba\u001b[0m \u001b[0;34m=\u001b[0m \u001b[0mself\u001b[0m\u001b[0;34m.\u001b[0m\u001b[0mtree_\u001b[0m\u001b[0;34m.\u001b[0m\u001b[0mpredict\u001b[0m\u001b[0;34m(\u001b[0m\u001b[0mX\u001b[0m\u001b[0;34m)\u001b[0m\u001b[0;34m\u001b[0m\u001b[0;34m\u001b[0m\u001b[0m\n",
                        "\u001b[0;32m/usr/lib/python3.9/site-packages/sklearn/utils/validation.py\u001b[0m in \u001b[0;36minner_f\u001b[0;34m(*args, **kwargs)\u001b[0m\n\u001b[1;32m     61\u001b[0m             \u001b[0mextra_args\u001b[0m \u001b[0;34m=\u001b[0m \u001b[0mlen\u001b[0m\u001b[0;34m(\u001b[0m\u001b[0margs\u001b[0m\u001b[0;34m)\u001b[0m \u001b[0;34m-\u001b[0m \u001b[0mlen\u001b[0m\u001b[0;34m(\u001b[0m\u001b[0mall_args\u001b[0m\u001b[0;34m)\u001b[0m\u001b[0;34m\u001b[0m\u001b[0;34m\u001b[0m\u001b[0m\n\u001b[1;32m     62\u001b[0m             \u001b[0;32mif\u001b[0m \u001b[0mextra_args\u001b[0m \u001b[0;34m\u003c=\u001b[0m \u001b[0;36m0\u001b[0m\u001b[0;34m:\u001b[0m\u001b[0;34m\u001b[0m\u001b[0;34m\u001b[0m\u001b[0m\n\u001b[0;32m---\u003e 63\u001b[0;31m                 \u001b[0;32mreturn\u001b[0m \u001b[0mf\u001b[0m\u001b[0;34m(\u001b[0m\u001b[0;34m*\u001b[0m\u001b[0margs\u001b[0m\u001b[0;34m,\u001b[0m \u001b[0;34m**\u001b[0m\u001b[0mkwargs\u001b[0m\u001b[0;34m)\u001b[0m\u001b[0;34m\u001b[0m\u001b[0;34m\u001b[0m\u001b[0m\n\u001b[0m\u001b[1;32m     64\u001b[0m \u001b[0;34m\u001b[0m\u001b[0m\n\u001b[1;32m     65\u001b[0m             \u001b[0;31m# extra_args \u003e 0\u001b[0m\u001b[0;34m\u001b[0m\u001b[0;34m\u001b[0m\u001b[0m\n",
                        "\u001b[0;32m/usr/lib/python3.9/site-packages/sklearn/utils/validation.py\u001b[0m in \u001b[0;36mcheck_is_fitted\u001b[0;34m(estimator, attributes, msg, all_or_any)\u001b[0m\n\u001b[1;32m   1096\u001b[0m \u001b[0;34m\u001b[0m\u001b[0m\n\u001b[1;32m   1097\u001b[0m     \u001b[0;32mif\u001b[0m \u001b[0;32mnot\u001b[0m \u001b[0mattrs\u001b[0m\u001b[0;34m:\u001b[0m\u001b[0;34m\u001b[0m\u001b[0;34m\u001b[0m\u001b[0m\n\u001b[0;32m-\u003e 1098\u001b[0;31m         \u001b[0;32mraise\u001b[0m \u001b[0mNotFittedError\u001b[0m\u001b[0;34m(\u001b[0m\u001b[0mmsg\u001b[0m \u001b[0;34m%\u001b[0m \u001b[0;34m{\u001b[0m\u001b[0;34m'name'\u001b[0m\u001b[0;34m:\u001b[0m \u001b[0mtype\u001b[0m\u001b[0;34m(\u001b[0m\u001b[0mestimator\u001b[0m\u001b[0;34m)\u001b[0m\u001b[0;34m.\u001b[0m\u001b[0m__name__\u001b[0m\u001b[0;34m}\u001b[0m\u001b[0;34m)\u001b[0m\u001b[0;34m\u001b[0m\u001b[0;34m\u001b[0m\u001b[0m\n\u001b[0m\u001b[1;32m   1099\u001b[0m \u001b[0;34m\u001b[0m\u001b[0m\n\u001b[1;32m   1100\u001b[0m \u001b[0;34m\u001b[0m\u001b[0m\n",
                        "\u001b[0;31mNotFittedError\u001b[0m: This DecisionTreeClassifier instance is not fitted yet. Call 'fit' with appropriate arguments before using this estimator."
                    ]
                }
            ],
            "source": [
                "# Load saved model. Make sure that you have run the previous\n",
                "# section at least once, and that the file exists.\n",
                "\n",
                "model = joblib.load('MODELNAME.joblib')\n",
                "predictions = model.predict(X_test)\n",
                "predictions"
            ]
        },
        {
            "attachments": {},
            "cell_type": "markdown",
            "metadata": {},
            "source": [
                "6. (Optional) Visualize decision trees"
            ]
        },
        {
            "cell_type": "code",
            "execution_count": 39,
            "metadata": {},
            "outputs": [
                {
                    "ename": "TypeError",
                    "evalue": "'\u003c' not supported between instances of 'float' and 'str'",
                    "output_type": "error",
                    "traceback": [
                        "\u001b[0;31m---------------------------------------------------------------------------\u001b[0m",
                        "\u001b[0;31mTypeError\u001b[0m                                 Traceback (most recent call last)",
                        "\u001b[0;32m/tmp/ipykernel_90/2205762447.py\u001b[0m in \u001b[0;36m\u003cmodule\u003e\u001b[0;34m\u001b[0m\n\u001b[1;32m      1\u001b[0m tree.export_graphviz(model, out_file = 'MODELNAME.dot',\n\u001b[1;32m      2\u001b[0m                     \u001b[0mfeature_names\u001b[0m \u001b[0;34m=\u001b[0m \u001b[0mX\u001b[0m\u001b[0;34m.\u001b[0m\u001b[0mcolumns\u001b[0m\u001b[0;34m,\u001b[0m\u001b[0;34m\u001b[0m\u001b[0;34m\u001b[0m\u001b[0m\n\u001b[0;32m----\u003e 3\u001b[0;31m                     \u001b[0mclass_names\u001b[0m \u001b[0;34m=\u001b[0m \u001b[0mstr\u001b[0m\u001b[0;34m(\u001b[0m\u001b[0msorted\u001b[0m\u001b[0;34m(\u001b[0m\u001b[0my\u001b[0m\u001b[0;34m.\u001b[0m\u001b[0munique\u001b[0m\u001b[0;34m(\u001b[0m\u001b[0;34m)\u001b[0m\u001b[0;34m)\u001b[0m\u001b[0;34m)\u001b[0m\u001b[0;34m,\u001b[0m\u001b[0;34m\u001b[0m\u001b[0;34m\u001b[0m\u001b[0m\n\u001b[0m\u001b[1;32m      4\u001b[0m                     \u001b[0mlabel\u001b[0m \u001b[0;34m=\u001b[0m \u001b[0;34m'all'\u001b[0m\u001b[0;34m,\u001b[0m\u001b[0;34m\u001b[0m\u001b[0;34m\u001b[0m\u001b[0m\n\u001b[1;32m      5\u001b[0m                     \u001b[0mrounded\u001b[0m \u001b[0;34m=\u001b[0m \u001b[0;32mTrue\u001b[0m\u001b[0;34m,\u001b[0m\u001b[0;34m\u001b[0m\u001b[0;34m\u001b[0m\u001b[0m\n",
                        "\u001b[0;31mTypeError\u001b[0m: '\u003c' not supported between instances of 'float' and 'str'"
                    ]
                }
            ],
            "source": [
                "tree.export_graphviz(model, out_file = 'MODELNAME.dot',\n",
                "                    feature_names = X.columns, \n",
                "                    class_names = str(sorted(y.unique())), \n",
                "                    label = 'all',\n",
                "                    rounded = True, \n",
                "                    filled = True)\n",
                "\n",
                "#Download the file music-recommender.dot and open it in VS Code.\n",
                ""
            ]
        },
        {
            "cell_type": "code",
            "execution_count": 0,
            "metadata": {},
            "outputs": [],
            "source": [
                ""
            ]
        }
    ]
}
